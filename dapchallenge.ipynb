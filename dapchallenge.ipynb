{
  "nbformat": 4,
  "nbformat_minor": 0,
  "metadata": {
    "colab": {
      "name": "dapchallenge.ipynb",
      "provenance": [],
      "authorship_tag": "ABX9TyNL1m1xfGPF9hPCfFrFQGZu",
      "include_colab_link": true
    },
    "kernelspec": {
      "name": "python3",
      "display_name": "Python 3"
    },
    "language_info": {
      "name": "python"
    }
  },
  "cells": [
    {
      "cell_type": "markdown",
      "metadata": {
        "id": "view-in-github",
        "colab_type": "text"
      },
      "source": [
        "<a href=\"https://colab.research.google.com/github/ryancliffew44/DAP-skill-based-challenge/blob/main/dapchallenge.ipynb\" target=\"_parent\"><img src=\"https://colab.research.google.com/assets/colab-badge.svg\" alt=\"Open In Colab\"/></a>"
      ]
    },
    {
      "cell_type": "code",
      "metadata": {
        "colab": {
          "base_uri": "https://localhost:8080/"
        },
        "id": "eyKxYvz9f4xI",
        "outputId": "c7c4fefe-9ad8-4eb8-8407-9328d7f21821"
      },
      "source": [
        "import pandas as pd\n",
        "import json\n",
        "import urllib.request\n",
        "\n",
        "#url = 'https://raw.githubusercontent.com/onaio/ona-tech/master/data/water_points.json'\n",
        "\n",
        "def calculate(url):\n",
        "\n",
        "  with urllib.request.urlopen(url) as link:\n",
        "\n",
        "      dataset = pd.DataFrame(json.loads(link.read().decode()))\n",
        "\n",
        "  return {\n",
        "      \n",
        "      \"number_functional\":  (dataset['water_point_condition']=='functioning').sum(),\n",
        "\n",
        "      \"number_water_points\":dataset.groupby('communities_villages').size().to_dict(),\n",
        "\n",
        "      \"community_ranking\":dataset.groupby('communities_villages')['water_point_condition'].value_counts(normalize=True).unstack()['broken'].fillna(0).sort_values(ascending=False).to_dict()\n",
        "  }\n",
        "  \n",
        "if __name__ == \"__main__\":\n",
        "\n",
        "    url = input('Enter the URL to the dataset and press Enter Key:')  \n",
        "\n",
        "    print(calculate(url))"
      ],
      "execution_count": 4,
      "outputs": [
        {
          "output_type": "stream",
          "text": [
            "Enter the URL to the dataset:https://raw.githubusercontent.com/onaio/ona-tech/master/data/water_points.json\n",
            "{'number_functional': 590, 'number_water_points': {'Abanyeri': 4, 'Akpari-yeri': 3, 'Alavanyo': 3, 'Arigu': 12, 'Badomsa': 27, 'Bandem': 7, 'Banyangsa': 10, 'Bechinsa': 26, 'Chanpolinsa': 4, 'Chansa': 9, 'Chondema': 4, 'Dibisi': 2, 'Dorinsa': 17, 'Fiisa': 5, 'Gaadem': 2, 'Garigu': 1, 'Gbaarigu': 5, 'Gbima': 3, 'Gumaryili': 1, 'Guuta': 32, 'Guuta-Nasa': 11, 'Jaata': 8, 'Jagsa': 38, 'Jiniensa': 1, 'Jiningsa': 7, 'Jiningsa-Yipaala': 3, 'Jiriwiensa': 8, 'Kaasa': 25, 'Kalaasa': 1, 'Kanbangsa': 8, 'Kanwaasa': 9, 'Kom': 6, 'Kpatarigu': 51, 'Kpikpaluk': 3, 'Kubore': 18, 'Kulbugu': 11, 'Kunkwah': 3, 'Kurugu': 9, 'Loagri_1_': 18, 'Logvasgsa': 4, 'Longsa': 9, 'Luisa': 8, 'Mwalorinsa': 8, 'Nabulugu': 31, 'Namgurima': 8, 'Nawaasa': 6, 'Nayoku': 35, 'Nyandema': 3, 'Nyankpiensa': 8, 'Piisa': 5, 'Selinvoya': 13, 'Sikabsa': 3, 'Soo': 7, 'Suik': 1, 'Tankangsa': 6, 'Tantala': 22, 'Tuisa': 4, 'Vundema': 5, 'Zangu-Vuga': 13, 'Zanwara': 10, 'Zogsa': 6, 'Zua': 28, 'Zuedema': 18, 'Zukpeni': 6, 'Zundem': 30}, 'community_ranking': {'Vundema': 0.4, 'Gbaarigu': 0.4, 'Bandem': 0.2857142857142857, 'Soo': 0.2857142857142857, 'Namgurima': 0.25, 'Kubore': 0.2222222222222222, 'Loagri_1_': 0.2222222222222222, 'Zanwara': 0.2, 'Nayoku': 0.17142857142857143, 'Arigu': 0.16666666666666666, 'Zogsa': 0.16666666666666666, 'Zukpeni': 0.16666666666666666, 'Luisa': 0.125, 'Nyankpiensa': 0.125, 'Kanwaasa': 0.1111111111111111, 'Longsa': 0.1111111111111111, 'Banyangsa': 0.1, 'Tantala': 0.045454545454545456, 'Kaasa': 0.04, 'Guuta': 0.03125, 'Jagsa': 0.02631578947368421, 'Kpatarigu': 0.0196078431372549, 'Fiisa': 0.0, 'Dorinsa': 0.0, 'Akpari-yeri': 0.0, 'Alavanyo': 0.0, 'Jaata': 0.0, 'Guuta-Nasa': 0.0, 'Badomsa': 0.0, 'Bechinsa': 0.0, 'Chanpolinsa': 0.0, 'Gumaryili': 0.0, 'Chansa': 0.0, 'Gbima': 0.0, 'Chondema': 0.0, 'Garigu': 0.0, 'Dibisi': 0.0, 'Gaadem': 0.0, 'Jiningsa': 0.0, 'Jiniensa': 0.0, 'Zundem': 0.0, 'Jiningsa-Yipaala': 0.0, 'Jiriwiensa': 0.0, 'Zuedema': 0.0, 'Zua': 0.0, 'Zangu-Vuga': 0.0, 'Tuisa': 0.0, 'Tankangsa': 0.0, 'Suik': 0.0, 'Sikabsa': 0.0, 'Selinvoya': 0.0, 'Piisa': 0.0, 'Nyandema': 0.0, 'Nawaasa': 0.0, 'Nabulugu': 0.0, 'Mwalorinsa': 0.0, 'Logvasgsa': 0.0, 'Kurugu': 0.0, 'Kunkwah': 0.0, 'Kulbugu': 0.0, 'Kpikpaluk': 0.0, 'Kom': 0.0, 'Kanbangsa': 0.0, 'Kalaasa': 0.0, 'Abanyeri': 0.0}}\n"
          ],
          "name": "stdout"
        }
      ]
    }
  ]
}